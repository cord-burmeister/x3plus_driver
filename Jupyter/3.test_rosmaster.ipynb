{
 "cells": [
  {
   "cell_type": "code",
   "execution_count": null,
   "id": "0b64905e",
   "metadata": {},
   "outputs": [],
   "source": [
    "#!/usr/bin/env python3\n",
    "#coding=utf-8\n",
    "\n",
    "# Import Rosmaster driver library\n",
    "from Rosmaster_Lib import Rosmaster"
   ]
  },
  {
   "cell_type": "code",
   "execution_count": null,
   "id": "2b9babf6",
   "metadata": {
    "tags": []
   },
   "outputs": [],
   "source": [
    "# Create the Rosmaster object bot\n",
    "bot = Rosmaster()\n",
    "# Help can print all the bot methods and remarks\n",
    "help(bot)"
   ]
  },
  {
   "cell_type": "code",
   "execution_count": null,
   "id": "2b97a599",
   "metadata": {},
   "outputs": [],
   "source": [
    "# Start to receive data, can only start once, all read data function is based on this method  \n",
    "bot.create_receive_threading()"
   ]
  },
  {
   "cell_type": "code",
   "execution_count": null,
   "id": "75b458c5",
   "metadata": {},
   "outputs": [],
   "source": [
    "# Read version number\n",
    "version = bot.get_version()\n",
    "print(version)"
   ]
  },
  {
   "cell_type": "code",
   "execution_count": null,
   "id": "6c3df250",
   "metadata": {},
   "outputs": [],
   "source": [
    "# Read the battery voltage\n",
    "voltage = bot.get_battery_voltage()\n",
    "print(voltage)"
   ]
  },
  {
   "cell_type": "code",
   "execution_count": null,
   "id": "064bc88a",
   "metadata": {},
   "outputs": [],
   "source": [
    "# Please delete the object after the program to avoid conflicts caused by Rosmaster library in other programs\n",
    "del bot"
   ]
  },
  {
   "cell_type": "code",
   "execution_count": null,
   "id": "8eb9fee8",
   "metadata": {},
   "outputs": [],
   "source": []
  }
 ],
 "metadata": {
  "kernelspec": {
   "display_name": "Python 3",
   "language": "python",
   "name": "python3"
  },
  "language_info": {
   "codemirror_mode": {
    "name": "ipython",
    "version": 3
   },
   "file_extension": ".py",
   "mimetype": "text/x-python",
   "name": "python",
   "nbconvert_exporter": "python",
   "pygments_lexer": "ipython3",
   "version": "3.6.9"
  }
 },
 "nbformat": 4,
 "nbformat_minor": 5
}
