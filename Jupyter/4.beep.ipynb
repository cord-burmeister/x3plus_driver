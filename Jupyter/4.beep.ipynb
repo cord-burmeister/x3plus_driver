{
 "cells": [
  {
   "cell_type": "code",
   "execution_count": null,
   "id": "6dedfc5b-3989-4f87-922c-59874fda0770",
   "metadata": {},
   "outputs": [],
   "source": [
    "#!/usr/bin/env python3\n",
    "#coding=utf-8\n",
    "import time\n",
    "from Rosmaster_Lib import Rosmaster"
   ]
  },
  {
   "cell_type": "code",
   "execution_count": null,
   "id": "55d5545c-818f-4da6-8e51-ea10d7d1b1d4",
   "metadata": {},
   "outputs": [],
   "source": [
    "# Create the Rosmaster object bot\n",
    "bot = Rosmaster()"
   ]
  },
  {
   "cell_type": "code",
   "execution_count": null,
   "id": "74be1a81-9797-40b5-b5c8-2d3875df92eb",
   "metadata": {},
   "outputs": [],
   "source": [
    "# The buzzer automatically beeps for 100 milliseconds before turning off\n",
    "# Buzzer switch, on_time=0: off, on_time=1: keeps ringing\n",
    "# On_time >=10: automatically closes after xx ms (on_time is a multiple of 10).\n",
    "on_time = 100\n",
    "bot.set_beep(on_time)\n",
    "time.sleep(1) # 延迟退出cell"
   ]
  },
  {
   "cell_type": "code",
   "execution_count": null,
   "id": "5d62330c-47c8-43f8-94d3-aae2cb8dbfc5",
   "metadata": {},
   "outputs": [],
   "source": [
    "# The buzzer automatically beeps for 300 milliseconds before turning off\n",
    "# Buzzer switch, on_time=0: off, on_time=1: keeps ringing\n",
    "# On_time >=10: automatically closes after xx ms (on_time is a multiple of 10).\n",
    "\n",
    "on_time = 300\n",
    "bot.set_beep(on_time)\n",
    "time.sleep(1) # 延迟退出cell"
   ]
  },
  {
   "cell_type": "code",
   "execution_count": null,
   "id": "8bbf5425-883c-42c2-82b2-591b2f98167a",
   "metadata": {},
   "outputs": [],
   "source": [
    "# The buzzer kept going\n",
    "# Buzzer switch, on_time=0: off, on_time=1: keeps ringing\n",
    "# On_time >=10: automatically closes after xx ms (on_time is a multiple of 10).\n",
    "\n",
    "on_time = 1\n",
    "bot.set_beep(on_time)\n",
    "time.sleep(1) # 延迟退出cell"
   ]
  },
  {
   "cell_type": "code",
   "execution_count": null,
   "id": "88cd5eb7-4c6a-4576-90c8-40997dcab1da",
   "metadata": {},
   "outputs": [],
   "source": [
    "# The buzzer is off\n",
    "# Buzzer switch, on_time=0: off, on_time=1: keeps ringing\n",
    "# On_time >=10: automatically closes after xx ms (on_time is a multiple of 10).\n",
    "\n",
    "on_time = 0\n",
    "bot.set_beep(on_time)\n",
    "time.sleep(1) # 延迟退出cell"
   ]
  },
  {
   "cell_type": "code",
   "execution_count": null,
   "id": "fac9dbc2-07bb-4889-87d0-2f319a592343",
   "metadata": {},
   "outputs": [],
   "source": [
    "# After the program is complete, delete the object to avoid conflicts caused by using the library in other programs\n",
    "del bot"
   ]
  },
  {
   "cell_type": "code",
   "execution_count": null,
   "id": "5ee9b99f-4865-4c28-b450-01b6e59bc3de",
   "metadata": {},
   "outputs": [],
   "source": []
  }
 ],
 "metadata": {
  "kernelspec": {
   "display_name": "Python 3",
   "language": "python",
   "name": "python3"
  },
  "language_info": {
   "codemirror_mode": {
    "name": "ipython",
    "version": 3
   },
   "file_extension": ".py",
   "mimetype": "text/x-python",
   "name": "python",
   "nbconvert_exporter": "python",
   "pygments_lexer": "ipython3",
   "version": "3.6.9"
  }
 },
 "nbformat": 4,
 "nbformat_minor": 5
}
